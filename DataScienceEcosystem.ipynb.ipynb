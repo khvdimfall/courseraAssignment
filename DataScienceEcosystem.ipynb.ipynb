{
 "cells": [
  {
   "cell_type": "markdown",
   "id": "2d9f5d3d-5b20-4074-97a1-8b34b7e5a662",
   "metadata": {},
   "source": [
    "# Data Science Tools and Ecosystem"
   ]
  },
  {
   "cell_type": "markdown",
   "id": "eaf3f4f7-326f-4f2f-9e32-8a1805c0a6e7",
   "metadata": {},
   "source": [
    "In this notebook, Data Science Tools and Ecosystem are summarized."
   ]
  },
  {
   "cell_type": "markdown",
   "id": "876d1030-64b5-41fe-8127-a5398230ae9d",
   "metadata": {},
   "source": [
    "**Objectives: **\n",
    "- List data science languages\n",
    "- List data science libraries\n",
    "- Table of Data Science tools\n",
    "- Introducing arithmetic expression examples"
   ]
  },
  {
   "cell_type": "markdown",
   "id": "fb6d27db-46d1-4311-a61b-6ec8ad6b7c89",
   "metadata": {},
   "source": [
    "Some of the popular languages that Data Scientists use are:\n",
    "1. Python\n",
    "2. R\n",
    "3. Julia\n",
    "4. Java\n",
    "5. Scala"
   ]
  },
  {
   "cell_type": "markdown",
   "id": "3f0fd95c-1c2a-4cd5-b485-710b394223e0",
   "metadata": {},
   "source": [
    "Some of the commonly used libraries used by Data Scientists include:\n",
    "1. Pandas\n",
    "2. Numpy\n",
    "3. Matplotlib\n",
    "4. Scipy\n",
    "5. Keras"
   ]
  },
  {
   "cell_type": "markdown",
   "id": "99b3b18b-8de7-4145-b180-7b51a4f50f55",
   "metadata": {
    "tags": []
   },
   "source": [
    "|Data science Tools|\n",
    "|------------------|\n",
    "|Apache Spark|\n",
    "|Rstudio|\n",
    "|Jupyter Notebook|"
   ]
  },
  {
   "cell_type": "markdown",
   "id": "7e16687c-ee3b-43c2-8704-5d541cf62028",
   "metadata": {},
   "source": [
    "### Below are a few examples of evaluating arithmetic expressions in Python"
   ]
  },
  {
   "cell_type": "code",
   "execution_count": 8,
   "id": "b5225c32-d8ed-4e16-b00e-d8f926c5ec02",
   "metadata": {
    "tags": []
   },
   "outputs": [
    {
     "data": {
      "text/plain": [
       "17"
      ]
     },
     "execution_count": 8,
     "metadata": {},
     "output_type": "execute_result"
    }
   ],
   "source": [
    "# This a simple arithmetic expression to mutiply then add integers\n",
    "(3*4)+5"
   ]
  },
  {
   "cell_type": "code",
   "execution_count": 9,
   "id": "5d95e8c2-fc4c-4f1a-8abb-6fef4025e789",
   "metadata": {
    "tags": []
   },
   "outputs": [
    {
     "name": "stdout",
     "output_type": "stream",
     "text": [
      "The number of hours: 3.3333333333333335\n"
     ]
    }
   ],
   "source": [
    "# This will convert 200 minutes to hours by diving by 60\n",
    "minutes=200\n",
    "one_hour=60\n",
    "Hours=minutes/one_hour\n",
    "print(\"The number of hours:\",Hours)"
   ]
  },
  {
   "cell_type": "markdown",
   "id": "4d6dec99-f06e-4f4d-9025-34b25c3894ba",
   "metadata": {},
   "source": [
    "## Author:\n",
    "Cheikh Ahmadou Bamba FALL"
   ]
  },
  {
   "cell_type": "code",
   "execution_count": null,
   "id": "dad878dd-5868-4b90-8af8-ca1fa92e4f60",
   "metadata": {},
   "outputs": [],
   "source": []
  }
 ],
 "metadata": {
  "kernelspec": {
   "display_name": "Python",
   "language": "python",
   "name": "conda-env-python-py"
  },
  "language_info": {
   "codemirror_mode": {
    "name": "ipython",
    "version": 3
   },
   "file_extension": ".py",
   "mimetype": "text/x-python",
   "name": "python",
   "nbconvert_exporter": "python",
   "pygments_lexer": "ipython3",
   "version": "3.7.12"
  }
 },
 "nbformat": 4,
 "nbformat_minor": 5
}
